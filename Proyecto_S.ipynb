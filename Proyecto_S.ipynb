{
  "cells": [
    {
      "cell_type": "markdown",
      "metadata": {
        "id": "view-in-github",
        "colab_type": "text"
      },
      "source": [
        "<a href=\"https://colab.research.google.com/github/Perk24/python/blob/main/Proyecto_S.ipynb\" target=\"_parent\"><img src=\"https://colab.research.google.com/assets/colab-badge.svg\" alt=\"Open In Colab\"/></a>"
      ]
    },
    {
      "cell_type": "code",
      "source": [
        "n1 = float(input(\"Introduce tu primer número: \") )\n",
        "n2 = float(input(\"Introduce tu segundo número: \") )\n",
        "\n",
        "opcion = 0\n",
        "while True:\n",
        "    print(\"\"\"\n",
        "    Dime, ¿qué quieres hacer?\n",
        "    \n",
        "    1) Sumar los dos números\n",
        "    2) Restar los dos números\n",
        "    3) Multiplicar los dos números\n",
        "    4) Cambiar los números elegidos\n",
        "    5) Apagar calculadora\n",
        "    \"\"\")\n",
        "    opcion = int(input(\"Elige una opción: \") )     \n",
        "\n",
        "    if opcion == 1:\n",
        "        print(\" \")\n",
        "        print(\"RESULTADO: La suma de\",n1,\"+\",n2,\"es igual a\",n1+n2)\n",
        "    elif opcion == 2:\n",
        "        print(\" \")\n",
        "        print(\"RESULTADO: La resta de\",n1,\"-\",n2,\"es igual a\",n1-n2)\n",
        "    elif opcion == 3:\n",
        "        print(\" \")\n",
        "        print(\"RESULTADO: El producto de\",n1,\"*\",n2,\"es igual a\",n1*n2)\n",
        "    elif opcion == 4:\n",
        "        n1 = float(input(\"Introduce tu primer número: \") )\n",
        "        n2 = float(input(\"Introduce tu segundo número: \") )\n",
        "    elif opcion == 5:\n",
        "        break\n",
        "    else:\n",
        "        print(\"Opción incorrecta\")"
      ],
      "metadata": {
        "id": "T5M6eb8mgp6R"
      },
      "execution_count": null,
      "outputs": []
    },
    {
      "cell_type": "code",
      "source": [
        "n1 = float(input(\"Introduce tu primer numero: \") )\n",
        "n2 = float(input(\"Introduce tu segundo numero: \") )\n",
        "\n",
        "opcion = 0\n",
        "while True:\n",
        "  print(\"\"\"\n",
        "  Dime, ¿Que quieres hacer?\n",
        "  \n",
        "  1) Sumar los dos numeros\n",
        "  2) Restar los dos numeros\n",
        "  3) Multiplicar los dos numeros\n",
        "  4) Cambiar los numeros elegidos\n",
        "  5) Apagar calculadora\n",
        "  \"\"\")\n",
        "  opcion = int(input(\"Elige una opcion: \") )\n",
        "\n",
        "  if opcion == 1:\n",
        "    print(\"\")\n",
        "    print(\"Resultado: la suma de\",n1,\"+\",n2,\"es igual a\",n1+n2)\n",
        "  elif opcion == 2:\n",
        "      print(\"\")\n",
        "      print(\"Resultado: la resta de\",n1,\"-\",n2,\"es igual a\",n1-n2)\n",
        "  elif opcion == 3:\n",
        "      print(\"\")\n",
        "      print(\"Resultado: el producto de\",n1,\"*\",\"es igual a\",n1*n2)\n",
        "  elif opcion == 4:\n",
        "        n1 = float(input(\"Introduce tu primer numero: \") )\n",
        "        n2 = float(input(\"Introduce tu segundo numero: \") )\n",
        "  elif opcion == 5:\n",
        "          break\n",
        "  else:\n",
        "            print(\"Opcion incorrecta\")\n"
      ],
      "metadata": {
        "id": "v41kiLO0kTCI"
      },
      "execution_count": null,
      "outputs": []
    },
    {
      "cell_type": "markdown",
      "source": [
        "Ejercicios de Python\n"
      ],
      "metadata": {
        "id": "bQm8_IRnphB2"
      }
    },
    {
      "cell_type": "code",
      "source": [
        "print(\"Hola Mundo\")"
      ],
      "metadata": {
        "colab": {
          "base_uri": "https://localhost:8080/"
        },
        "id": "UXPaFfPxpm94",
        "outputId": "2bd3892b-0673-496a-90ef-5946720d969a"
      },
      "execution_count": 6,
      "outputs": [
        {
          "output_type": "stream",
          "name": "stdout",
          "text": [
            "Hola Mundo\n"
          ]
        }
      ]
    },
    {
      "cell_type": "code",
      "source": [
        "mensaje = \"!Hola mundo¡\"\n",
        "print(mensaje)"
      ],
      "metadata": {
        "colab": {
          "base_uri": "https://localhost:8080/"
        },
        "id": "QWWwTXm3tuKB",
        "outputId": "dfb9294c-a83a-4337-bdba-4436c71b0456"
      },
      "execution_count": 8,
      "outputs": [
        {
          "output_type": "stream",
          "name": "stdout",
          "text": [
            "!Hola mundo¡\n"
          ]
        }
      ]
    },
    {
      "cell_type": "code",
      "source": [
        "nombre = input(\"Introduce tu nombre: \")\n",
        "print(\"¡Hola\"+\" \"+ nombre + \"!\")"
      ],
      "metadata": {
        "colab": {
          "base_uri": "https://localhost:8080/"
        },
        "id": "8sWdhtRNuKAi",
        "outputId": "bcca8257-47a2-45e5-f9c2-ce2683062973"
      },
      "execution_count": 20,
      "outputs": [
        {
          "output_type": "stream",
          "name": "stdout",
          "text": [
            "Introduce tu nombre: Frederick\n",
            "¡Hola Frederick!\n"
          ]
        }
      ]
    },
    {
      "cell_type": "code",
      "source": [
        "horas = float(input(\"Horas Trabajadas: \"))\n",
        "coste = float(input(\"Coste por hora: \"))\n",
        "print(\"Paga de las horas trabajadas\",horas*coste)\n"
      ],
      "metadata": {
        "colab": {
          "base_uri": "https://localhost:8080/"
        },
        "id": "Vb7F5Kw0xc2q",
        "outputId": "8cb4bec4-9522-4c14-cb7d-ae88928283da"
      },
      "execution_count": 24,
      "outputs": [
        {
          "output_type": "stream",
          "name": "stdout",
          "text": [
            "Horas Trabajadas: 24\n",
            "Coste por hora: 2\n",
            "Paga de las horas trabajadas 48.0\n"
          ]
        }
      ]
    },
    {
      "cell_type": "code",
      "source": [
        "n1 = int(input(\"Agrega un numero entero: \"))\n",
        "suma = n * (n + 1) / 2\n",
        "print=(\"la suma de los primeros numeros enteros\" + str(n) + \" es \" + str(suma))"
      ],
      "metadata": {
        "id": "I15TtTMwPt1D"
      },
      "execution_count": null,
      "outputs": []
    },
    {
      "cell_type": "code",
      "source": [
        "peso = float(input(\"Peso KG: \"))\n",
        "estatura = float(input(\"Estatuta M: \"))"
      ],
      "metadata": {
        "id": "mcbNvw67VeS7"
      },
      "execution_count": null,
      "outputs": []
    },
    {
      "cell_type": "markdown",
      "source": [
        "cadena"
      ],
      "metadata": {
        "id": "6LwS2pV3mY31"
      }
    },
    {
      "cell_type": "markdown",
      "source": [
        "1"
      ],
      "metadata": {
        "id": "EAa3JqpGtqV0"
      }
    },
    {
      "cell_type": "code",
      "source": [
        "print(\"!Hola Mundo¡\")\n",
        "print(\"!Hola' \\'Mundo¡\")\n",
        "print(\"!Hola Mundo¡, Como estas?\")\n",
        "print(\"!Hola Mundo¡, sacudiendo el polvo\")\n"
      ],
      "metadata": {
        "colab": {
          "base_uri": "https://localhost:8080/"
        },
        "id": "OBp3Cv7ZqyR6",
        "outputId": "f24d7dbf-73c2-43ab-d5ef-61d346fa212e"
      },
      "execution_count": null,
      "outputs": [
        {
          "output_type": "stream",
          "name": "stdout",
          "text": [
            "!Hola Mundo¡\n",
            "!Hola' 'Mundo¡\n",
            "!Hola Mundo¡, Como estas?\n",
            "!Hola Mundo¡, sacudiendo el polvo\n"
          ]
        }
      ]
    },
    {
      "cell_type": "markdown",
      "source": [
        "2"
      ],
      "metadata": {
        "id": "sMGusrCpttT0"
      }
    },
    {
      "cell_type": "code",
      "source": [
        "Palabra = \"!Hola Mundo¡\"  \n",
        "print(Palabra)"
      ],
      "metadata": {
        "colab": {
          "base_uri": "https://localhost:8080/"
        },
        "id": "Hl_3huYltuIl",
        "outputId": "fb0a4675-6f7f-4c01-bbe7-6129540f3fb6"
      },
      "execution_count": null,
      "outputs": [
        {
          "output_type": "stream",
          "name": "stdout",
          "text": [
            "!Hola Mundo¡\n"
          ]
        }
      ]
    },
    {
      "cell_type": "markdown",
      "source": [
        "3"
      ],
      "metadata": {
        "id": "KNP7MjcdvBMY"
      }
    },
    {
      "cell_type": "code",
      "source": [
        "usuario = input(\"Hola usuario¡ \\\n",
        "prodrias escribirme tu nombre \")\n",
        "\n",
        "print(\"Hola \" + usuario + \", en que te puedo ayudar\" )"
      ],
      "metadata": {
        "colab": {
          "base_uri": "https://localhost:8080/"
        },
        "id": "WyGq02Detr58",
        "outputId": "9f394d51-4efc-48a5-b62f-5b79d4e02726"
      },
      "execution_count": null,
      "outputs": [
        {
          "output_type": "stream",
          "name": "stdout",
          "text": [
            "Hola usuario¡ prodrias escribirme tu nombre alf\n",
            "Hola alf, en que te puedo ayudar\n"
          ]
        }
      ]
    },
    {
      "cell_type": "markdown",
      "source": [
        "4"
      ],
      "metadata": {
        "id": "LrfAWlRJ6C2u"
      }
    },
    {
      "cell_type": "code",
      "source": [
        "(3+2/2-5)**2\n"
      ],
      "metadata": {
        "id": "LXwHq3I3rEQf",
        "outputId": "35c9adf2-bde9-4e69-85ea-9b669a2042b9",
        "colab": {
          "base_uri": "https://localhost:8080/"
        }
      },
      "execution_count": null,
      "outputs": [
        {
          "output_type": "execute_result",
          "data": {
            "text/plain": [
              "1.0"
            ]
          },
          "metadata": {},
          "execution_count": 162
        }
      ]
    },
    {
      "cell_type": "code",
      "source": [
        ""
      ],
      "metadata": {
        "id": "7VqmqmZv61ZA"
      },
      "execution_count": null,
      "outputs": []
    }
  ],
  "metadata": {
    "colab": {
      "name": "Proyecto S.ipynb",
      "provenance": [],
      "collapsed_sections": [],
      "include_colab_link": true
    },
    "kernelspec": {
      "display_name": "Python 3",
      "name": "python3"
    },
    "language_info": {
      "name": "python"
    }
  },
  "nbformat": 4,
  "nbformat_minor": 0
}